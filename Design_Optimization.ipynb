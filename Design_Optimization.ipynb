{
 "cells": [
  {
   "cell_type": "markdown",
   "id": "567913b5",
   "metadata": {},
   "source": [
    "Design Optimization\n",
    "\n",
    "1. For this assignment, I have optimized the 4 bar linkage in the salamander robot so that it achieves maximum velocity of the end effector. The reason for doing this is so that the robot becomes more agile and can attain higher speeds. "
   ]
  },
  {
   "cell_type": "code",
   "execution_count": 1,
   "id": "d5c9c7cd",
   "metadata": {},
   "outputs": [],
   "source": [
    "%matplotlib inline\n",
    "use_constraints = True"
   ]
  },
  {
   "cell_type": "code",
   "execution_count": 2,
   "id": "75203bff",
   "metadata": {},
   "outputs": [],
   "source": [
    "import pynamics\n",
    "from pynamics.frame import Frame\n",
    "from pynamics.variable_types import Differentiable,Constant\n",
    "from pynamics.system import System\n",
    "from pynamics.body import Body\n",
    "from pynamics.dyadic import Dyadic\n",
    "from pynamics.output import Output,PointsOutput\n",
    "from pynamics.particle import Particle\n",
    "from pynamics.constraint import AccelerationConstraint\n",
    "import pynamics.integration\n",
    "import numpy\n",
    "import sympy\n",
    "import matplotlib.pyplot as plt\n",
    "plt.ion()\n",
    "from math import pi\n",
    "import scipy"
   ]
  },
  {
   "cell_type": "code",
   "execution_count": 3,
   "id": "6c5baea5",
   "metadata": {},
   "outputs": [],
   "source": [
    "system = System()\n",
    "pynamics.set_system(__name__,system)"
   ]
  },
  {
   "cell_type": "code",
   "execution_count": 4,
   "id": "8d6f46db",
   "metadata": {},
   "outputs": [],
   "source": [
    "lA = Constant(5,'lA',system)\n",
    "lB = Constant(3,'lB',system)\n",
    "lC = Constant(3,'lC',system)"
   ]
  },
  {
   "cell_type": "code",
   "execution_count": 5,
   "id": "736b7cd1",
   "metadata": {},
   "outputs": [],
   "source": [
    "mA = Constant(.010,'mA',system)\n",
    "mB = Constant(.06,'mB',system)\n",
    "mC = Constant(.06,'mC',system)\n",
    "\n",
    "g = Constant(9.81,'g',system)\n",
    "b = Constant(8,'b',system)\n",
    "k = Constant(8,'k',system)\n",
    "\n",
    "preload1 = Constant(0*pi/180,'preload1',system)\n",
    "preload2 = Constant(-90*pi/180,'preload2',system)\n",
    "preload3 = Constant(-80*pi/180,'preload3',system)"
   ]
  },
  {
   "cell_type": "code",
   "execution_count": 6,
   "id": "36190701",
   "metadata": {},
   "outputs": [],
   "source": [
    "torque = Constant(-20,'torque',system)\n",
    "freq = Constant(0.05,'freq',system)\n",
    "\n",
    "qA,qA_d,qA_dd = Differentiable('qA',system)\n",
    "qB,qB_d,qB_dd = Differentiable('qB',system)\n",
    "qC,qC_d,qC_dd = Differentiable('qC',system)"
   ]
  },
  {
   "cell_type": "code",
   "execution_count": 7,
   "id": "c610839c",
   "metadata": {},
   "outputs": [],
   "source": [
    "initialvalues = {}\n",
    "initialvalues[qA]=0*pi/180\n",
    "initialvalues[qA_d]=0*pi/180\n",
    "initialvalues[qB]=-90*pi/180\n",
    "initialvalues[qB_d]=0*pi/180\n",
    "initialvalues[qC]=-80*pi/180\n",
    "initialvalues[qC_d]=0*pi/180"
   ]
  },
  {
   "cell_type": "code",
   "execution_count": 8,
   "id": "69432406",
   "metadata": {},
   "outputs": [],
   "source": [
    "statevariables = system.get_state_variables()\n",
    "ini = [initialvalues[item] for item in statevariables]"
   ]
  },
  {
   "cell_type": "code",
   "execution_count": 9,
   "id": "8de5dc43",
   "metadata": {},
   "outputs": [],
   "source": [
    "N = Frame('N',system)\n",
    "A = Frame('A',system)\n",
    "B = Frame('B',system)\n",
    "C = Frame('C',system)\n",
    "\n",
    "system.set_newtonian(N)"
   ]
  },
  {
   "cell_type": "code",
   "execution_count": 10,
   "id": "190e3cd6",
   "metadata": {},
   "outputs": [],
   "source": [
    "A.rotate_fixed_axis(N,[0,0,1],qA,system)\n",
    "B.rotate_fixed_axis(A,[0,0,1],qB,system)\n",
    "C.rotate_fixed_axis(B,[0,0,1],qC,system)"
   ]
  },
  {
   "cell_type": "code",
   "execution_count": 11,
   "id": "397b5038",
   "metadata": {},
   "outputs": [],
   "source": [
    "pNA=0*N.x\n",
    "pAB=pNA+lA*A.x\n",
    "pBC = pAB + lB*B.x\n",
    "pCtip = pBC + lC*C.x\n",
    "\n",
    "wNA = N.get_w_to(A)\n",
    "wAB = A.get_w_to(B)\n",
    "wBC = B.get_w_to(C)"
   ]
  },
  {
   "cell_type": "code",
   "execution_count": 12,
   "id": "42d1e110",
   "metadata": {},
   "outputs": [],
   "source": [
    "vCtip = pCtip.time_derivative(N,system)\n",
    "\n",
    "Ixx_A = Constant(3.5417e-07,'Ixx_A',system)\n",
    "Iyy_A = Constant(2.4167e-06,'Iyy_A',system)\n",
    "Izz_A = Constant(2.1047e-06,'Izz_A',system)\n",
    "Ixx_B = Constant(3.5417e-07,'Ixx_B',system)\n",
    "Iyy_B = Constant(1.0833e-06,'Iyy_B',system)\n",
    "Izz_B = Constant(7.7083e-07,'Izz_B',system)\n",
    "Ixx_C = Constant(3.5417e-07,'Ixx_C',system)\n",
    "Iyy_C = Constant(1.0833e-06,'Iyy_C',system)\n",
    "Izz_C = Constant(7.7083e-07,'Izz_C',system)"
   ]
  },
  {
   "cell_type": "code",
   "execution_count": 13,
   "id": "46cdb764",
   "metadata": {},
   "outputs": [],
   "source": [
    "IA = Dyadic.build(A,Ixx_A,Iyy_A,Izz_A)\n",
    "IB = Dyadic.build(B,Ixx_B,Iyy_B,Izz_B)\n",
    "IC = Dyadic.build(C,Ixx_C,Iyy_C,Izz_C)\n",
    "\n",
    "pAcm=pNA+lA/2*A.x\n",
    "pBcm=pAB+lB/2*B.x\n",
    "pCcm=pBC+lC/2*C.x\n"
   ]
  },
  {
   "cell_type": "code",
   "execution_count": 14,
   "id": "21062edd",
   "metadata": {},
   "outputs": [],
   "source": [
    "BodyA = Body('BodyA',A,pAcm,mA,IA,system)\n",
    "BodyB = Body('BodyB',B,pBcm,mB,IB,system)\n",
    "BodyC = Body('BodyC',C,pCcm,mC,IC,system)"
   ]
  },
  {
   "cell_type": "code",
   "execution_count": 15,
   "id": "bf0843ab",
   "metadata": {},
   "outputs": [
    {
     "data": {
      "text/plain": [
       "<pynamics.force.Force at 0x265cc93b490>"
      ]
     },
     "execution_count": 15,
     "metadata": {},
     "output_type": "execute_result"
    }
   ],
   "source": [
    "p = sympy.Piecewise((0, system.t < 0), (torque, system.t <= 1), (0, True))\n",
    "# system.addforce(p*A.z,wNA)\n",
    "system.addforce(torque*sympy.cos(freq*2*sympy.pi*system.t)*A.z,wNA)\n",
    "system.addforce(-b*wNA,wNA)\n",
    "system.addforce(-b*wAB,wAB)\n",
    "system.addforce(-b*wBC,wBC)"
   ]
  },
  {
   "cell_type": "code",
   "execution_count": 16,
   "id": "9f895f3a",
   "metadata": {},
   "outputs": [],
   "source": [
    "system.add_spring_force1(k,(qA-preload1)*N.z,wNA) \n",
    "system.add_spring_force1(k,(qB-preload2)*A.z,wAB)\n",
    "system.add_spring_force1(k,(qC-preload3)*B.z,wBC)\n",
    "\n",
    "system.addforcegravity(-g*N.y)"
   ]
  },
  {
   "cell_type": "code",
   "execution_count": 17,
   "id": "ee928a56",
   "metadata": {},
   "outputs": [],
   "source": [
    "if use_constraints:\n",
    "    eq = []\n",
    "    eq.append(pCtip)\n",
    "    eq_d=[item.time_derivative() for item in eq]\n",
    "    eq_dd=[item.time_derivative() for item in eq_d]\n",
    "    eq_dd_scalar = []\n",
    "    eq_dd_scalar.append(eq_dd[0].dot(N.y))\n",
    "    eq_dd_scalar.append(eq_dd[0].dot(N.x))\n",
    "    constraint = AccelerationConstraint(eq_dd_scalar)\n",
    "    system.add_constraint(constraint)"
   ]
  },
  {
   "cell_type": "code",
   "execution_count": 18,
   "id": "e07c8df8",
   "metadata": {},
   "outputs": [
    {
     "name": "stderr",
     "output_type": "stream",
     "text": [
      "2022-04-28 18:50:14,010 - pynamics.system - INFO - getting dynamic equations\n"
     ]
    }
   ],
   "source": [
    "f,ma = system.getdynamics()"
   ]
  },
  {
   "cell_type": "code",
   "execution_count": 19,
   "id": "6dc610d5",
   "metadata": {},
   "outputs": [],
   "source": [
    "points = [pNA, pAB, pBC, pCtip]"
   ]
  },
  {
   "cell_type": "code",
   "execution_count": 20,
   "id": "c1c34049",
   "metadata": {},
   "outputs": [
    {
     "name": "stderr",
     "output_type": "stream",
     "text": [
      "2022-04-28 18:50:14,647 - pynamics.system - INFO - solving a = f/m and creating function\n",
      "2022-04-28 18:50:14,894 - pynamics.system - INFO - substituting constrained in Ma-f.\n",
      "2022-04-28 18:50:15,336 - pynamics.system - INFO - done solving a = f/m and creating function\n",
      "2022-04-28 18:50:15,337 - pynamics.system - INFO - calculating function for lambdas\n"
     ]
    }
   ],
   "source": [
    "func1,lambda1 = system.state_space_post_invert(f,ma,return_lambda = True)\n",
    "\n",
    "tol = 1e-5\n",
    "\n",
    "tinitial = 0\n",
    "tfinal = 10\n",
    "fps = 30\n",
    "tstep = 1/fps\n",
    "t = numpy.r_[tinitial:tfinal:tstep]"
   ]
  },
  {
   "cell_type": "code",
   "execution_count": 21,
   "id": "74bca17b",
   "metadata": {},
   "outputs": [],
   "source": [
    "PE = system.getPEGravity(0*N.x)\n",
    "KE = system.get_KE()"
   ]
  },
  {
   "cell_type": "code",
   "execution_count": 22,
   "id": "17753a79",
   "metadata": {},
   "outputs": [
    {
     "data": {
      "text/plain": [
       "0.5*Izz_A*qA_d**2 + 0.5*Izz_B*qA_d*(qA_d + qB_d) + 0.5*Izz_B*qB_d*(qA_d + qB_d) + 0.5*Izz_C*qA_d*(qA_d + qB_d + qC_d) + 0.5*Izz_C*qB_d*(qA_d + qB_d + qC_d) + 0.5*Izz_C*qC_d*(qA_d + qB_d + qC_d) + g*lA*mA*sin(qA)/2 + g*lA*mB*sin(qA) + g*lA*mC*sin(qA) + g*lB*mB*sin(qA)*cos(qB)/2 + g*lB*mB*sin(qB)*cos(qA)/2 + g*lB*mC*sin(qA)*cos(qB) + g*lB*mC*sin(qB)*cos(qA) + g*lC*mC*(-sin(qB)*sin(qC) + cos(qB)*cos(qC))*sin(qA)/2 + g*lC*mC*(sin(qB)*cos(qC) + sin(qC)*cos(qB))*cos(qA)/2 + 0.125*lA**2*mA*qA_d**2 + 0.5*mB*(lA**2*qA_d**2 + lA*lB*qA_d*(qA_d + qB_d)*cos(qB) + lB**2*(qA_d + qB_d)**2/4) + 0.5*mC*(lA**2*qA_d**2 + 2*lA*lB*qA_d*(qA_d + qB_d)*cos(qB) - lA*lC*qA_d*(qA_d + qB_d + qC_d)*sin(qB)*sin(qC) + lA*lC*qA_d*(qA_d + qB_d + qC_d)*cos(qB)*cos(qC) + lB**2*(qA_d + qB_d)**2 + lB*lC*(qA_d + qB_d)*(qA_d + qB_d + qC_d)*cos(qC) + lC**2*(qA_d + qB_d + qC_d)**2/4)"
      ]
     },
     "execution_count": 22,
     "metadata": {},
     "output_type": "execute_result"
    }
   ],
   "source": [
    "E = KE-PE\n",
    "E"
   ]
  },
  {
   "cell_type": "code",
   "execution_count": 23,
   "id": "48ad4dbd",
   "metadata": {},
   "outputs": [
    {
     "data": {
      "text/plain": [
       "-g*lA*mA*sin(qA)/2 - g*lA*mB*sin(qA) - g*lA*mC*sin(qA) - g*lB*mB*sin(qA)*cos(qB)/2 - g*lB*mB*sin(qB)*cos(qA)/2 - g*lB*mC*sin(qA)*cos(qB) - g*lB*mC*sin(qB)*cos(qA) - g*lC*mC*(-sin(qB)*sin(qC) + cos(qB)*cos(qC))*sin(qA)/2 - g*lC*mC*(sin(qB)*cos(qC) + sin(qC)*cos(qB))*cos(qA)/2"
      ]
     },
     "execution_count": 23,
     "metadata": {},
     "output_type": "execute_result"
    }
   ],
   "source": [
    "PE"
   ]
  },
  {
   "cell_type": "markdown",
   "id": "84e15514",
   "metadata": {},
   "source": [
    "2. After defining the system, I have decided to change the length of link 1 i.e lA, and see which value of lA gives the maximum end effector velocity (Vb). I have changed the values of lA between 0.1  to 10. In order to minimize the function, I am considering 1/(end effector velocity) to be my minimizing function.\n"
   ]
  },
  {
   "cell_type": "code",
   "execution_count": 24,
   "id": "23e26695",
   "metadata": {},
   "outputs": [],
   "source": [
    "def run(args):\n",
    "    my_link = args[0]\n",
    "    constants = system.constant_values.copy()\n",
    "    constants[lA] = my_link    \n",
    "    states=pynamics.integration.integrate_odeint(func1,ini,t, args=({'constants':constants},)) \n",
    "    return states"
   ]
  },
  {
   "cell_type": "code",
   "execution_count": 25,
   "id": "b38c5b9e",
   "metadata": {},
   "outputs": [],
   "source": [
    "def measure_perf(args):\n",
    "    print('r: ',args[0])\n",
    "   # if args[0]>1:\n",
    "   #     return 1000\n",
    "   # if args[0]<=0:\n",
    "   #     return 1000\n",
    "    try:\n",
    "        states = run(args)\n",
    "        # perf = lA*qA_d*A.y \n",
    "        perf = 1/(args[0] * states[-1,3] + system.constant_values[lB] * (states[-1,3] + states[-1,4]) + system.constant_values[lC] * (states[-1,3] + states[-1,4] + states[-1,5])) \n",
    "            # + lB*(states[-1,3]+states[-1,4]) + lC*(states[-1,3]+states[-1,4]+states[-1,5])\n",
    "        # perf = (1/states[-1,0])**2 + 5*(states[-1,1])**2 \n",
    "        return perf\n",
    "    except scipy.linalg.LinAlgError:\n",
    "        return 1000"
   ]
  },
  {
   "cell_type": "code",
   "execution_count": 26,
   "id": "2b1babf9",
   "metadata": {},
   "outputs": [
    {
     "name": "stdout",
     "output_type": "stream",
     "text": [
      "r:  0.1\n"
     ]
    },
    {
     "name": "stderr",
     "output_type": "stream",
     "text": [
      "2022-04-28 18:50:15,721 - pynamics.integration - INFO - beginning integration\n",
      "2022-04-28 18:50:15,722 - pynamics.system - INFO - integration at time 0000.00\n",
      "2022-04-28 18:50:16,556 - pynamics.integration - INFO - finished integration\n",
      "2022-04-28 18:50:16,558 - pynamics.integration - INFO - beginning integration\n",
      "2022-04-28 18:50:16,722 - pynamics.system - INFO - integration at time 0000.09\n"
     ]
    },
    {
     "name": "stdout",
     "output_type": "stream",
     "text": [
      "r:  1.2000000000000002\n"
     ]
    },
    {
     "name": "stderr",
     "output_type": "stream",
     "text": [
      "2022-04-28 18:50:17,286 - pynamics.integration - INFO - finished integration\n",
      "2022-04-28 18:50:17,287 - pynamics.integration - INFO - beginning integration\n"
     ]
    },
    {
     "name": "stdout",
     "output_type": "stream",
     "text": [
      "r:  2.3000000000000003\n"
     ]
    },
    {
     "name": "stderr",
     "output_type": "stream",
     "text": [
      "2022-04-28 18:50:17,690 - pynamics.system - INFO - integration at time 0001.54\n",
      "2022-04-28 18:50:17,915 - pynamics.integration - INFO - finished integration\n",
      "2022-04-28 18:50:17,917 - pynamics.integration - INFO - beginning integration\n"
     ]
    },
    {
     "name": "stdout",
     "output_type": "stream",
     "text": [
      "r:  3.4000000000000004\n"
     ]
    },
    {
     "name": "stderr",
     "output_type": "stream",
     "text": [
      "2022-04-28 18:50:18,426 - pynamics.integration - INFO - finished integration\n",
      "2022-04-28 18:50:18,428 - pynamics.integration - INFO - beginning integration\n"
     ]
    },
    {
     "name": "stdout",
     "output_type": "stream",
     "text": [
      "r:  4.5\n"
     ]
    },
    {
     "name": "stderr",
     "output_type": "stream",
     "text": [
      "2022-04-28 18:50:18,659 - pynamics.system - INFO - integration at time 0001.58\n",
      "2022-04-28 18:50:19,235 - pynamics.integration - INFO - finished integration\n",
      "2022-04-28 18:50:19,237 - pynamics.integration - INFO - beginning integration\n"
     ]
    },
    {
     "name": "stdout",
     "output_type": "stream",
     "text": [
      "r:  5.6\n"
     ]
    },
    {
     "name": "stderr",
     "output_type": "stream",
     "text": [
      "2022-04-28 18:50:19,642 - pynamics.system - INFO - integration at time 0005.30\n",
      "2022-04-28 18:50:20,121 - pynamics.integration - INFO - finished integration\n",
      "2022-04-28 18:50:20,122 - pynamics.integration - INFO - beginning integration\n"
     ]
    },
    {
     "name": "stdout",
     "output_type": "stream",
     "text": [
      "r:  6.7\n"
     ]
    },
    {
     "name": "stderr",
     "output_type": "stream",
     "text": [
      "2022-04-28 18:50:20,585 - pynamics.system - INFO - integration at time 0005.41\n",
      "2022-04-28 18:50:20,990 - pynamics.integration - INFO - finished integration\n",
      "2022-04-28 18:50:20,991 - pynamics.integration - INFO - beginning integration\n"
     ]
    },
    {
     "name": "stdout",
     "output_type": "stream",
     "text": [
      "r:  7.800000000000001\n"
     ]
    },
    {
     "name": "stderr",
     "output_type": "stream",
     "text": [
      "2022-04-28 18:50:21,560 - pynamics.system - INFO - integration at time 0006.39\n",
      "2022-04-28 18:50:21,839 - pynamics.integration - INFO - finished integration\n",
      "2022-04-28 18:50:21,840 - pynamics.integration - INFO - beginning integration\n"
     ]
    },
    {
     "name": "stdout",
     "output_type": "stream",
     "text": [
      "r:  8.9\n"
     ]
    },
    {
     "name": "stderr",
     "output_type": "stream",
     "text": [
      "2022-04-28 18:50:22,559 - pynamics.system - INFO - integration at time 0008.65\n",
      "2022-04-28 18:50:22,674 - pynamics.integration - INFO - finished integration\n",
      "2022-04-28 18:50:22,676 - pynamics.integration - INFO - beginning integration\n"
     ]
    },
    {
     "name": "stdout",
     "output_type": "stream",
     "text": [
      "r:  10.0\n"
     ]
    },
    {
     "name": "stderr",
     "output_type": "stream",
     "text": [
      "2022-04-28 18:50:23,451 - pynamics.integration - INFO - finished integration\n",
      "2022-04-28 18:50:23,492 - pynamics.integration - INFO - beginning integration\n",
      "2022-04-28 18:50:23,593 - pynamics.system - INFO - integration at time 0000.01\n"
     ]
    },
    {
     "name": "stdout",
     "output_type": "stream",
     "text": [
      "r:  0.5\n"
     ]
    },
    {
     "name": "stderr",
     "output_type": "stream",
     "text": [
      "2022-04-28 18:50:24,503 - pynamics.integration - INFO - finished integration\n",
      "2022-04-28 18:50:24,505 - pynamics.integration - INFO - beginning integration\n",
      "2022-04-28 18:50:24,576 - pynamics.system - INFO - integration at time 0000.08\n"
     ]
    },
    {
     "name": "stdout",
     "output_type": "stream",
     "text": [
      "r:  3.8814635113760407\n"
     ]
    },
    {
     "name": "stderr",
     "output_type": "stream",
     "text": [
      "2022-04-28 18:50:24,947 - pynamics.integration - INFO - finished integration\n",
      "2022-04-28 18:50:24,948 - pynamics.integration - INFO - beginning integration\n"
     ]
    },
    {
     "name": "stdout",
     "output_type": "stream",
     "text": [
      "r:  6.2185364886239585\n"
     ]
    },
    {
     "name": "stderr",
     "output_type": "stream",
     "text": [
      "2022-04-28 18:50:25,530 - pynamics.system - INFO - integration at time 0006.70\n",
      "2022-04-28 18:50:25,886 - pynamics.integration - INFO - finished integration\n",
      "2022-04-28 18:50:25,887 - pynamics.integration - INFO - beginning integration\n"
     ]
    },
    {
     "name": "stdout",
     "output_type": "stream",
     "text": [
      "r:  2.437072977247918\n"
     ]
    },
    {
     "name": "stderr",
     "output_type": "stream",
     "text": [
      "2022-04-28 18:50:26,438 - pynamics.integration - INFO - finished integration\n",
      "2022-04-28 18:50:26,440 - pynamics.integration - INFO - beginning integration\n",
      "2022-04-28 18:50:26,486 - pynamics.system - INFO - integration at time 0000.00\n"
     ]
    },
    {
     "name": "stdout",
     "output_type": "stream",
     "text": [
      "r:  1.544390534128123\n"
     ]
    },
    {
     "name": "stderr",
     "output_type": "stream",
     "text": [
      "2022-04-28 18:50:27,103 - pynamics.integration - INFO - finished integration\n",
      "2022-04-28 18:50:27,104 - pynamics.integration - INFO - beginning integration\n"
     ]
    },
    {
     "name": "stdout",
     "output_type": "stream",
     "text": [
      "r:  0.9926824431197951\n"
     ]
    },
    {
     "name": "stderr",
     "output_type": "stream",
     "text": [
      "2022-04-28 18:50:27,426 - pynamics.system - INFO - integration at time 0000.37\n",
      "2022-04-28 18:50:27,869 - pynamics.integration - INFO - finished integration\n",
      "2022-04-28 18:50:27,871 - pynamics.integration - INFO - beginning integration\n"
     ]
    },
    {
     "name": "stdout",
     "output_type": "stream",
     "text": [
      "r:  1.6490256649613366\n"
     ]
    },
    {
     "name": "stderr",
     "output_type": "stream",
     "text": [
      "2022-04-28 18:50:28,371 - pynamics.system - INFO - integration at time 0003.49\n",
      "2022-04-28 18:50:28,545 - pynamics.integration - INFO - finished integration\n",
      "2022-04-28 18:50:28,547 - pynamics.integration - INFO - beginning integration\n"
     ]
    },
    {
     "name": "stdout",
     "output_type": "stream",
     "text": [
      "r:  1.7015358716351372\n"
     ]
    },
    {
     "name": "stderr",
     "output_type": "stream",
     "text": [
      "2022-04-28 18:50:29,129 - pynamics.integration - INFO - finished integration\n",
      "2022-04-28 18:50:29,130 - pynamics.integration - INFO - beginning integration\n",
      "2022-04-28 18:50:29,334 - pynamics.system - INFO - integration at time 0000.32\n"
     ]
    },
    {
     "name": "stdout",
     "output_type": "stream",
     "text": [
      "r:  1.6889797516401128\n"
     ]
    },
    {
     "name": "stderr",
     "output_type": "stream",
     "text": [
      "2022-04-28 18:50:29,794 - pynamics.integration - INFO - finished integration\n",
      "2022-04-28 18:50:29,797 - pynamics.integration - INFO - beginning integration\n"
     ]
    },
    {
     "name": "stdout",
     "output_type": "stream",
     "text": [
      "r:  1.6878861072163596\n"
     ]
    },
    {
     "name": "stderr",
     "output_type": "stream",
     "text": [
      "2022-04-28 18:50:30,293 - pynamics.system - INFO - integration at time 0002.64\n",
      "2022-04-28 18:50:30,479 - pynamics.integration - INFO - finished integration\n",
      "2022-04-28 18:50:30,481 - pynamics.integration - INFO - beginning integration\n"
     ]
    },
    {
     "name": "stdout",
     "output_type": "stream",
     "text": [
      "r:  1.6877720883147995\n"
     ]
    },
    {
     "name": "stderr",
     "output_type": "stream",
     "text": [
      "2022-04-28 18:50:31,124 - pynamics.integration - INFO - finished integration\n",
      "2022-04-28 18:50:31,125 - pynamics.integration - INFO - beginning integration\n",
      "2022-04-28 18:50:31,269 - pynamics.system - INFO - integration at time 0000.11\n"
     ]
    },
    {
     "name": "stdout",
     "output_type": "stream",
     "text": [
      "r:  1.6881881823990874\n"
     ]
    },
    {
     "name": "stderr",
     "output_type": "stream",
     "text": [
      "2022-04-28 18:50:31,827 - pynamics.integration - INFO - finished integration\n",
      "2022-04-28 18:50:31,828 - pynamics.integration - INFO - beginning integration\n"
     ]
    },
    {
     "name": "stdout",
     "output_type": "stream",
     "text": [
      "r:  1.6879194581688912\n"
     ]
    },
    {
     "name": "stderr",
     "output_type": "stream",
     "text": [
      "2022-04-28 18:50:32,240 - pynamics.system - INFO - integration at time 0002.07\n",
      "2022-04-28 18:50:32,483 - pynamics.integration - INFO - finished integration\n",
      "2022-04-28 18:50:32,485 - pynamics.integration - INFO - beginning integration\n"
     ]
    },
    {
     "name": "stdout",
     "output_type": "stream",
     "text": [
      "r:  1.687852756263828\n"
     ]
    },
    {
     "name": "stderr",
     "output_type": "stream",
     "text": [
      "2022-04-28 18:50:33,159 - pynamics.integration - INFO - finished integration\n",
      "2022-04-28 18:50:33,161 - pynamics.integration - INFO - beginning integration\n",
      "2022-04-28 18:50:33,220 - pynamics.system - INFO - integration at time 0000.03\n"
     ]
    },
    {
     "name": "stdout",
     "output_type": "stream",
     "text": [
      "r:  2.875772214432719\n"
     ]
    },
    {
     "name": "stderr",
     "output_type": "stream",
     "text": [
      "2022-04-28 18:50:33,875 - pynamics.integration - INFO - finished integration\n",
      "2022-04-28 18:50:33,877 - pynamics.integration - INFO - beginning integration\n"
     ]
    },
    {
     "name": "stdout",
     "output_type": "stream",
     "text": [
      "r:  3.8814635113760407\n"
     ]
    },
    {
     "name": "stderr",
     "output_type": "stream",
     "text": [
      "2022-04-28 18:50:34,190 - pynamics.system - INFO - integration at time 0002.77\n",
      "2022-04-28 18:50:34,316 - pynamics.integration - INFO - finished integration\n",
      "2022-04-28 18:50:34,317 - pynamics.integration - INFO - beginning integration\n"
     ]
    },
    {
     "name": "stdout",
     "output_type": "stream",
     "text": [
      "r:  6.218536488623959\n"
     ]
    },
    {
     "name": "stderr",
     "output_type": "stream",
     "text": [
      "2022-04-28 18:50:35,156 - pynamics.system - INFO - integration at time 0009.27\n",
      "2022-04-28 18:50:35,267 - pynamics.integration - INFO - finished integration\n",
      "2022-04-28 18:50:35,268 - pynamics.integration - INFO - beginning integration\n"
     ]
    },
    {
     "name": "stdout",
     "output_type": "stream",
     "text": [
      "r:  2.4370729772479183\n"
     ]
    },
    {
     "name": "stderr",
     "output_type": "stream",
     "text": [
      "2022-04-28 18:50:35,811 - pynamics.integration - INFO - finished integration\n",
      "2022-04-28 18:50:35,813 - pynamics.integration - INFO - beginning integration\n"
     ]
    },
    {
     "name": "stdout",
     "output_type": "stream",
     "text": [
      "r:  1.5443905341281234\n"
     ]
    },
    {
     "name": "stderr",
     "output_type": "stream",
     "text": [
      "2022-04-28 18:50:36,118 - pynamics.system - INFO - integration at time 0000.59\n",
      "2022-04-28 18:50:36,532 - pynamics.integration - INFO - finished integration\n",
      "2022-04-28 18:50:36,534 - pynamics.integration - INFO - beginning integration\n"
     ]
    },
    {
     "name": "stdout",
     "output_type": "stream",
     "text": [
      "r:  0.9926824431197953\n"
     ]
    },
    {
     "name": "stderr",
     "output_type": "stream",
     "text": [
      "2022-04-28 18:50:37,112 - pynamics.system - INFO - integration at time 0003.45\n",
      "2022-04-28 18:50:37,312 - pynamics.integration - INFO - finished integration\n",
      "2022-04-28 18:50:37,314 - pynamics.integration - INFO - beginning integration\n"
     ]
    },
    {
     "name": "stdout",
     "output_type": "stream",
     "text": [
      "r:  1.649026831226292\n"
     ]
    },
    {
     "name": "stderr",
     "output_type": "stream",
     "text": [
      "2022-04-28 18:50:38,003 - pynamics.integration - INFO - finished integration\n",
      "2022-04-28 18:50:38,005 - pynamics.integration - INFO - beginning integration\n",
      "2022-04-28 18:50:38,077 - pynamics.system - INFO - integration at time 0000.02\n"
     ]
    },
    {
     "name": "stdout",
     "output_type": "stream",
     "text": [
      "r:  1.7015306274204764\n"
     ]
    },
    {
     "name": "stderr",
     "output_type": "stream",
     "text": [
      "2022-04-28 18:50:38,614 - pynamics.integration - INFO - finished integration\n",
      "2022-04-28 18:50:38,616 - pynamics.integration - INFO - beginning integration\n"
     ]
    },
    {
     "name": "stdout",
     "output_type": "stream",
     "text": [
      "r:  1.688985950734405\n"
     ]
    },
    {
     "name": "stderr",
     "output_type": "stream",
     "text": [
      "2022-04-28 18:50:39,043 - pynamics.system - INFO - integration at time 0001.35\n",
      "2022-04-28 18:50:39,250 - pynamics.integration - INFO - finished integration\n",
      "2022-04-28 18:50:39,251 - pynamics.integration - INFO - beginning integration\n"
     ]
    },
    {
     "name": "stdout",
     "output_type": "stream",
     "text": [
      "r:  1.6878681000562328\n"
     ]
    },
    {
     "name": "stderr",
     "output_type": "stream",
     "text": [
      "2022-04-28 18:50:39,874 - pynamics.integration - INFO - finished integration\n",
      "2022-04-28 18:50:39,875 - pynamics.integration - INFO - beginning integration\n",
      "2022-04-28 18:50:40,022 - pynamics.system - INFO - integration at time 0000.12\n"
     ]
    },
    {
     "name": "stdout",
     "output_type": "stream",
     "text": [
      "r:  1.6884960187180325\n"
     ]
    },
    {
     "name": "stderr",
     "output_type": "stream",
     "text": [
      "2022-04-28 18:50:40,593 - pynamics.integration - INFO - finished integration\n",
      "2022-04-28 18:50:40,595 - pynamics.integration - INFO - beginning integration\n"
     ]
    },
    {
     "name": "stdout",
     "output_type": "stream",
     "text": [
      "r:  1.6937775908506059\n"
     ]
    },
    {
     "name": "stderr",
     "output_type": "stream",
     "text": [
      "2022-04-28 18:50:40,996 - pynamics.system - INFO - integration at time 0001.00\n",
      "2022-04-28 18:50:41,316 - pynamics.integration - INFO - finished integration\n",
      "2022-04-28 18:50:41,318 - pynamics.integration - INFO - beginning integration\n"
     ]
    },
    {
     "name": "stdout",
     "output_type": "stream",
     "text": [
      "r:  1.6908161943969362\n"
     ]
    },
    {
     "name": "stderr",
     "output_type": "stream",
     "text": [
      "2022-04-28 18:50:41,991 - pynamics.system - INFO - integration at time 0008.08\n",
      "2022-04-28 18:50:42,090 - pynamics.integration - INFO - finished integration\n",
      "2022-04-28 18:50:42,092 - pynamics.integration - INFO - beginning integration\n"
     ]
    },
    {
     "name": "stdout",
     "output_type": "stream",
     "text": [
      "r:  1.6896850416057978\n"
     ]
    },
    {
     "name": "stderr",
     "output_type": "stream",
     "text": [
      "2022-04-28 18:50:42,691 - pynamics.integration - INFO - finished integration\n",
      "2022-04-28 18:50:42,693 - pynamics.integration - INFO - beginning integration\n"
     ]
    },
    {
     "name": "stdout",
     "output_type": "stream",
     "text": [
      "r:  1.6892529796860523\n"
     ]
    },
    {
     "name": "stderr",
     "output_type": "stream",
     "text": [
      "2022-04-28 18:50:43,004 - pynamics.system - INFO - integration at time 0000.65\n",
      "2022-04-28 18:50:43,327 - pynamics.integration - INFO - finished integration\n",
      "2022-04-28 18:50:43,328 - pynamics.integration - INFO - beginning integration\n"
     ]
    },
    {
     "name": "stdout",
     "output_type": "stream",
     "text": [
      "r:  1.6887988133563274\n"
     ]
    },
    {
     "name": "stderr",
     "output_type": "stream",
     "text": [
      "2022-04-28 18:50:43,890 - pynamics.integration - INFO - finished integration\n",
      "2022-04-28 18:50:43,892 - pynamics.integration - INFO - beginning integration\n",
      "2022-04-28 18:50:44,020 - pynamics.system - INFO - integration at time 0000.06\n"
     ]
    },
    {
     "name": "stdout",
     "output_type": "stream",
     "text": [
      "r:  1.6890879467179538\n"
     ]
    },
    {
     "name": "stderr",
     "output_type": "stream",
     "text": [
      "2022-04-28 18:50:44,490 - pynamics.integration - INFO - finished integration\n",
      "2022-04-28 18:50:44,492 - pynamics.integration - INFO - beginning integration\n"
     ]
    },
    {
     "name": "stdout",
     "output_type": "stream",
     "text": [
      "r:  1.6889144706165449\n"
     ]
    },
    {
     "name": "stderr",
     "output_type": "stream",
     "text": [
      "2022-04-28 18:50:45,050 - pynamics.system - INFO - integration at time 0006.21\n",
      "2022-04-28 18:50:45,181 - pynamics.integration - INFO - finished integration\n",
      "2022-04-28 18:50:45,183 - pynamics.integration - INFO - beginning integration\n"
     ]
    },
    {
     "name": "stdout",
     "output_type": "stream",
     "text": [
      "r:  1.689025546954292\n"
     ]
    },
    {
     "name": "stderr",
     "output_type": "stream",
     "text": [
      "2022-04-28 18:50:45,962 - pynamics.integration - INFO - finished integration\n",
      "2022-04-28 18:50:45,963 - pynamics.integration - INFO - beginning integration\n",
      "2022-04-28 18:50:46,067 - pynamics.system - INFO - integration at time 0000.18\n"
     ]
    },
    {
     "name": "stdout",
     "output_type": "stream",
     "text": [
      "r:  3.8814635113760403\n"
     ]
    },
    {
     "name": "stderr",
     "output_type": "stream",
     "text": [
      "2022-04-28 18:50:46,440 - pynamics.integration - INFO - finished integration\n",
      "2022-04-28 18:50:46,441 - pynamics.integration - INFO - beginning integration\n"
     ]
    },
    {
     "name": "stdout",
     "output_type": "stream",
     "text": [
      "r:  6.218536488623958\n"
     ]
    },
    {
     "name": "stderr",
     "output_type": "stream",
     "text": [
      "2022-04-28 18:50:47,058 - pynamics.system - INFO - integration at time 0007.35\n",
      "2022-04-28 18:50:47,386 - pynamics.integration - INFO - finished integration\n",
      "2022-04-28 18:50:47,388 - pynamics.integration - INFO - beginning integration\n"
     ]
    },
    {
     "name": "stdout",
     "output_type": "stream",
     "text": [
      "r:  2.437072977247918\n"
     ]
    },
    {
     "name": "stderr",
     "output_type": "stream",
     "text": [
      "2022-04-28 18:50:47,939 - pynamics.integration - INFO - finished integration\n",
      "2022-04-28 18:50:47,941 - pynamics.integration - INFO - beginning integration\n",
      "2022-04-28 18:50:48,037 - pynamics.system - INFO - integration at time 0000.02\n"
     ]
    },
    {
     "name": "stdout",
     "output_type": "stream",
     "text": [
      "r:  1.544390534128123\n"
     ]
    },
    {
     "name": "stderr",
     "output_type": "stream",
     "text": [
      "2022-04-28 18:50:48,655 - pynamics.integration - INFO - finished integration\n",
      "2022-04-28 18:50:48,657 - pynamics.integration - INFO - beginning integration\n"
     ]
    },
    {
     "name": "stdout",
     "output_type": "stream",
     "text": [
      "r:  0.9926824431197951\n"
     ]
    },
    {
     "name": "stderr",
     "output_type": "stream",
     "text": [
      "2022-04-28 18:50:49,021 - pynamics.system - INFO - integration at time 0000.44\n",
      "2022-04-28 18:50:49,427 - pynamics.integration - INFO - finished integration\n",
      "2022-04-28 18:50:49,429 - pynamics.integration - INFO - beginning integration\n"
     ]
    },
    {
     "name": "stdout",
     "output_type": "stream",
     "text": [
      "r:  1.6490256649613366\n"
     ]
    },
    {
     "name": "stderr",
     "output_type": "stream",
     "text": [
      "2022-04-28 18:50:49,989 - pynamics.system - INFO - integration at time 0005.88\n",
      "2022-04-28 18:50:50,112 - pynamics.integration - INFO - finished integration\n",
      "2022-04-28 18:50:50,113 - pynamics.integration - INFO - beginning integration\n"
     ]
    },
    {
     "name": "stdout",
     "output_type": "stream",
     "text": [
      "r:  1.7015358716351374\n"
     ]
    },
    {
     "name": "stderr",
     "output_type": "stream",
     "text": [
      "2022-04-28 18:50:50,761 - pynamics.integration - INFO - finished integration\n",
      "2022-04-28 18:50:50,762 - pynamics.integration - INFO - beginning integration\n"
     ]
    },
    {
     "name": "stdout",
     "output_type": "stream",
     "text": [
      "r:  1.6889797609385078\n"
     ]
    },
    {
     "name": "stderr",
     "output_type": "stream",
     "text": [
      "2022-04-28 18:50:51,011 - pynamics.system - INFO - integration at time 0000.46\n",
      "2022-04-28 18:50:51,575 - pynamics.integration - INFO - finished integration\n",
      "2022-04-28 18:50:51,576 - pynamics.integration - INFO - beginning integration\n"
     ]
    },
    {
     "name": "stdout",
     "output_type": "stream",
     "text": [
      "r:  1.6878825639865689\n"
     ]
    },
    {
     "name": "stderr",
     "output_type": "stream",
     "text": [
      "2022-04-28 18:50:52,043 - pynamics.system - INFO - integration at time 0002.90\n",
      "2022-04-28 18:50:52,296 - pynamics.integration - INFO - finished integration\n",
      "2022-04-28 18:50:52,297 - pynamics.integration - INFO - beginning integration\n"
     ]
    },
    {
     "name": "stdout",
     "output_type": "stream",
     "text": [
      "r:  1.6882507313032786\n"
     ]
    },
    {
     "name": "stderr",
     "output_type": "stream",
     "text": [
      "2022-04-28 18:50:52,894 - pynamics.integration - INFO - finished integration\n",
      "2022-04-28 18:50:52,895 - pynamics.integration - INFO - beginning integration\n",
      "2022-04-28 18:50:53,050 - pynamics.system - INFO - integration at time 0000.10\n"
     ]
    },
    {
     "name": "stdout",
     "output_type": "stream",
     "text": [
      "r:  1.6883294046725963\n"
     ]
    },
    {
     "name": "stderr",
     "output_type": "stream",
     "text": [
      "2022-04-28 18:50:53,591 - pynamics.integration - INFO - finished integration\n",
      "2022-04-28 18:50:53,593 - pynamics.integration - INFO - beginning integration\n"
     ]
    },
    {
     "name": "stdout",
     "output_type": "stream",
     "text": [
      "r:  1.6881271181027617\n"
     ]
    },
    {
     "name": "stderr",
     "output_type": "stream",
     "text": [
      "2022-04-28 18:50:54,066 - pynamics.system - INFO - integration at time 0001.51\n",
      "2022-04-28 18:50:54,280 - pynamics.integration - INFO - finished integration\n",
      "2022-04-28 18:50:54,281 - pynamics.integration - INFO - beginning integration\n"
     ]
    },
    {
     "name": "stdout",
     "output_type": "stream",
     "text": [
      "r:  1.688033706742465\n"
     ]
    },
    {
     "name": "stderr",
     "output_type": "stream",
     "text": [
      "2022-04-28 18:50:55,038 - pynamics.integration - INFO - finished integration\n",
      "2022-04-28 18:50:55,040 - pynamics.integration - INFO - beginning integration\n",
      "2022-04-28 18:50:55,058 - pynamics.system - INFO - integration at time 0000.00\n"
     ]
    },
    {
     "name": "stdout",
     "output_type": "stream",
     "text": [
      "r:  1.6881472916451163\n"
     ]
    },
    {
     "name": "stderr",
     "output_type": "stream",
     "text": [
      "2022-04-28 18:50:55,720 - pynamics.integration - INFO - finished integration\n",
      "2022-04-28 18:50:55,722 - pynamics.integration - INFO - beginning integration\n"
     ]
    },
    {
     "name": "stdout",
     "output_type": "stream",
     "text": [
      "r:  1.6880914381380636\n"
     ]
    },
    {
     "name": "stderr",
     "output_type": "stream",
     "text": [
      "2022-04-28 18:50:56,055 - pynamics.system - INFO - integration at time 0000.93\n",
      "2022-04-28 18:50:56,413 - pynamics.integration - INFO - finished integration\n",
      "2022-04-28 18:50:56,415 - pynamics.integration - INFO - beginning integration\n"
     ]
    },
    {
     "name": "stdout",
     "output_type": "stream",
     "text": [
      "r:  1.6881134895689645\n"
     ]
    },
    {
     "name": "stderr",
     "output_type": "stream",
     "text": [
      "2022-04-28 18:50:57,020 - pynamics.integration - INFO - finished integration\n",
      "2022-04-28 18:50:57,022 - pynamics.integration - INFO - beginning integration\n",
      "2022-04-28 18:50:57,059 - pynamics.system - INFO - integration at time 0000.00\n"
     ]
    },
    {
     "name": "stdout",
     "output_type": "stream",
     "text": [
      "r:  1.6881348237102678\n"
     ]
    },
    {
     "name": "stderr",
     "output_type": "stream",
     "text": [
      "2022-04-28 18:50:57,781 - pynamics.integration - INFO - finished integration\n",
      "2022-04-28 18:50:57,783 - pynamics.integration - INFO - beginning integration\n"
     ]
    },
    {
     "name": "stdout",
     "output_type": "stream",
     "text": [
      "r:  1.6881237377354072\n"
     ]
    },
    {
     "name": "stderr",
     "output_type": "stream",
     "text": [
      "2022-04-28 18:50:58,000 - pynamics.system - INFO - integration at time 0000.39\n",
      "2022-04-28 18:50:58,507 - pynamics.integration - INFO - finished integration\n",
      "2022-04-28 18:50:58,509 - pynamics.integration - INFO - beginning integration\n"
     ]
    },
    {
     "name": "stdout",
     "output_type": "stream",
     "text": [
      "r:  1.688127154776951\n"
     ]
    },
    {
     "name": "stderr",
     "output_type": "stream",
     "text": [
      "2022-04-28 18:50:58,935 - pynamics.system - INFO - integration at time 0001.73\n",
      "2022-04-28 18:50:59,216 - pynamics.integration - INFO - finished integration\n",
      "2022-04-28 18:50:59,217 - pynamics.integration - INFO - beginning integration\n"
     ]
    },
    {
     "name": "stdout",
     "output_type": "stream",
     "text": [
      "r:  1.6881258269173267\n"
     ]
    },
    {
     "name": "stderr",
     "output_type": "stream",
     "text": [
      "2022-04-28 18:50:59,903 - pynamics.system - INFO - integration at time 0007.80\n",
      "2022-04-28 18:50:59,977 - pynamics.integration - INFO - finished integration\n",
      "2022-04-28 18:50:59,979 - pynamics.integration - INFO - beginning integration\n"
     ]
    },
    {
     "name": "stdout",
     "output_type": "stream",
     "text": [
      "r:  1.6881266249138114\n"
     ]
    },
    {
     "name": "stderr",
     "output_type": "stream",
     "text": [
      "2022-04-28 18:51:00,686 - pynamics.integration - INFO - finished integration\n",
      "2022-04-28 18:51:00,687 - pynamics.integration - INFO - beginning integration\n",
      "2022-04-28 18:51:00,865 - pynamics.system - INFO - integration at time 0000.19\n"
     ]
    },
    {
     "name": "stdout",
     "output_type": "stream",
     "text": [
      "r:  1.6881269297213455\n"
     ]
    },
    {
     "name": "stderr",
     "output_type": "stream",
     "text": [
      "2022-04-28 18:51:01,301 - pynamics.integration - INFO - finished integration\n",
      "2022-04-28 18:51:01,302 - pynamics.integration - INFO - beginning integration\n"
     ]
    },
    {
     "name": "stdout",
     "output_type": "stream",
     "text": [
      "r:  1.6881270461474636\n"
     ]
    },
    {
     "name": "stderr",
     "output_type": "stream",
     "text": [
      "2022-04-28 18:51:01,820 - pynamics.system - INFO - integration at time 0004.46\n",
      "2022-04-28 18:51:02,008 - pynamics.integration - INFO - finished integration\n",
      "2022-04-28 18:51:02,010 - pynamics.integration - INFO - beginning integration\n"
     ]
    },
    {
     "name": "stdout",
     "output_type": "stream",
     "text": [
      "r:  1.6881270016766436\n"
     ]
    },
    {
     "name": "stderr",
     "output_type": "stream",
     "text": [
      "2022-04-28 18:51:02,743 - pynamics.integration - INFO - finished integration\n"
     ]
    },
    {
     "data": {
      "image/png": "[encoded data removed]",
      "text/plain": [
       "<Figure size 432x288 with 1 Axes>"
      ]
     },
     "metadata": {
      "needs_background": "light"
     },
     "output_type": "display_data"
    }
   ],
   "source": [
    "yy = []    \n",
    "xx = numpy.r_[0.1:10:10j]\n",
    "for ii in xx:\n",
    "    yy.append(measure_perf([ii]))\n",
    "    \n",
    "yy = numpy.array(yy)\n",
    "plt.plot(xx,yy)\n",
    "\n",
    "result = scipy.optimize.minimize(measure_perf,[.5],method='powell',bounds=[(.1,10)])\n",
    "best = result.x"
   ]
  },
  {
   "cell_type": "code",
   "execution_count": 27,
   "id": "c03f22b2",
   "metadata": {},
   "outputs": [
    {
     "data": {
      "text/plain": [
       "array([1.68812705])"
      ]
     },
     "execution_count": 27,
     "metadata": {},
     "output_type": "execute_result"
    }
   ],
   "source": [
    "best"
   ]
  },
  {
   "cell_type": "markdown",
   "id": "ba60277d",
   "metadata": {},
   "source": [
    "3. Therefore scipy returns a link length value of 1.63 for which maximum end effector velocity is achieved."
   ]
  },
  {
   "cell_type": "code",
   "execution_count": 28,
   "id": "a5590ec9",
   "metadata": {},
   "outputs": [
    {
     "name": "stderr",
     "output_type": "stream",
     "text": [
      "2022-04-28 18:51:02,947 - pynamics.integration - INFO - beginning integration\n",
      "<lambdifygenerated-1>:2: VisibleDeprecationWarning: Creating an ndarray from ragged nested sequences (which is a list-or-tuple of lists-or-tuples-or ndarrays with different lengths or shapes) is deprecated. If you meant to do this, you must specify 'dtype=object' when creating the ndarray.\n",
      "  return array([[Izz_A + Izz_B + Izz_C + (1/4)*lA**2*mA + lA**2*mB + lA**2*mC + lA*lB*mB*cos(qB) + 2*lA*lB*mC*cos(qB) - lA*lC*mC*sin(qB)*sin(qC) + lA*lC*mC*cos(qB)*cos(qC) + (1/4)*lB**2*mB + lB**2*mC + lB*lC*mC*cos(qC) + (1/4)*lC**2*mC, Izz_B + Izz_C + (1/2)*lA*lB*mB*cos(qB) + lA*lB*mC*cos(qB) - 1/2*lA*lC*mC*sin(qB)*sin(qC) + (1/2)*lA*lC*mC*cos(qB)*cos(qC) + (1/4)*lB**2*mB + lB**2*mC + lB*lC*mC*cos(qC) + (1/4)*lC**2*mC, Izz_C - 1/2*lA*lC*mC*sin(qB)*sin(qC) + (1/2)*lA*lC*mC*cos(qB)*cos(qC) + (1/2)*lB*lC*mC*cos(qC) + (1/4)*lC**2*mC, lA*cos(qA) - lB*sin(qA)*sin(qB) + lB*cos(qA)*cos(qB) + lC*(-sin(qA)*sin(qB) + cos(qA)*cos(qB))*cos(qC) - lC*(sin(qA)*cos(qB) + sin(qB)*cos(qA))*sin(qC), -lA*sin(qA) - lB*sin(qA)*cos(qB) - lB*sin(qB)*cos(qA) - lC*(-sin(qA)*sin(qB) + cos(qA)*cos(qB))*sin(qC) + lC*(-sin(qA)*cos(qB) - sin(qB)*cos(qA))*cos(qC)], [Izz_B + Izz_C + (1/2)*lA*lB*mB*cos(qB) + lA*lB*mC*cos(qB) - 1/2*lA*lC*mC*sin(qB)*sin(qC) + (1/2)*lA*lC*mC*cos(qB)*cos(qC) + (1/4)*lB**2*mB + lB**2*mC + lB*lC*mC*cos(qC) + (1/4)*lC**2*mC, Izz_B + Izz_C + (1/4)*lB**2*mB + lB**2*mC + lB*lC*mC*cos(qC) + (1/4)*lC**2*mC, Izz_C + (1/2)*lB*lC*mC*cos(qC) + (1/4)*lC**2*mC, -lB*sin(qA)*sin(qB) + lB*cos(qA)*cos(qB) + lC*(-sin(qA)*sin(qB) + cos(qA)*cos(qB))*cos(qC) - lC*(sin(qA)*cos(qB) + sin(qB)*cos(qA))*sin(qC), -lB*sin(qA)*cos(qB) - lB*sin(qB)*cos(qA) - lC*(-sin(qA)*sin(qB) + cos(qA)*cos(qB))*sin(qC) + lC*(-sin(qA)*cos(qB) - sin(qB)*cos(qA))*cos(qC)], [Izz_C - 1/2*lA*lC*mC*sin(qB)*sin(qC) + (1/2)*lA*lC*mC*cos(qB)*cos(qC) + (1/2)*lB*lC*mC*cos(qC) + (1/4)*lC**2*mC, Izz_C + (1/2)*lB*lC*mC*cos(qC) + (1/4)*lC**2*mC, Izz_C + (1/4)*lC**2*mC, lC*(-sin(qA)*sin(qB) + cos(qA)*cos(qB))*cos(qC) - lC*(sin(qA)*cos(qB) + sin(qB)*cos(qA))*sin(qC), -lC*(-sin(qA)*sin(qB) + cos(qA)*cos(qB))*sin(qC) + lC*(-sin(qA)*cos(qB) - sin(qB)*cos(qA))*cos(qC)], [lA*cos(qA) - lB*sin(qA)*sin(qB) + lB*cos(qA)*cos(qB) + lC*(-sin(qA)*sin(qB) + cos(qA)*cos(qB))*cos(qC) - lC*(sin(qA)*cos(qB) + sin(qB)*cos(qA))*sin(qC), -lB*sin(qA)*sin(qB) + lB*cos(qA)*cos(qB) + lC*(-sin(qA)*sin(qB) + cos(qA)*cos(qB))*cos(qC) - lC*(sin(qA)*cos(qB) + sin(qB)*cos(qA))*sin(qC), lC*(-sin(qA)*sin(qB) + cos(qA)*cos(qB))*cos(qC) - lC*(sin(qA)*cos(qB) + sin(qB)*cos(qA))*sin(qC), 0, 0], [-lA*sin(qA) - lB*sin(qA)*cos(qB) - lB*sin(qB)*cos(qA) - lC*(-sin(qA)*sin(qB) + cos(qA)*cos(qB))*sin(qC) + lC*(-sin(qA)*cos(qB) - sin(qB)*cos(qA))*cos(qC), -lB*sin(qA)*cos(qB) - lB*sin(qB)*cos(qA) - lC*(-sin(qA)*sin(qB) + cos(qA)*cos(qB))*sin(qC) + lC*(-sin(qA)*cos(qB) - sin(qB)*cos(qA))*cos(qC), -lC*(-sin(qA)*sin(qB) + cos(qA)*cos(qB))*sin(qC) + lC*(-sin(qA)*cos(qB) - sin(qB)*cos(qA))*cos(qC), 0, 0]])\n",
      "2022-04-28 18:51:03,048 - pynamics.system - INFO - integration at time 0000.01\n",
      "2022-04-28 18:51:04,163 - pynamics.integration - INFO - finished integration\n"
     ]
    }
   ],
   "source": [
    "states = run([best])"
   ]
  },
  {
   "cell_type": "code",
   "execution_count": 29,
   "id": "ffffe0f8",
   "metadata": {},
   "outputs": [
    {
     "name": "stderr",
     "output_type": "stream",
     "text": [
      "2022-04-28 18:51:04,227 - pynamics.output - INFO - calculating outputs\n",
      "2022-04-28 18:51:04,253 - pynamics.output - INFO - done calculating outputs\n"
     ]
    },
    {
     "data": {
      "text/plain": [
       "<AxesSubplot:>"
      ]
     },
     "execution_count": 29,
     "metadata": {},
     "output_type": "execute_result"
    },
    {
     "data": {
      "image/png": "[encoded data removed]",
      "text/plain": [
       "<Figure size 432x288 with 1 Axes>"
      ]
     },
     "metadata": {
      "needs_background": "light"
     },
     "output_type": "display_data"
    },
    {
     "data": {
      "image/png": "[encoded data removed]",
      "text/plain": [
       "<Figure size 432x288 with 1 Axes>"
      ]
     },
     "metadata": {
      "needs_background": "light"
     },
     "output_type": "display_data"
    }
   ],
   "source": [
    "po = PointsOutput(points,system)\n",
    "po.calc(states,t)\n",
    "po.plot_time()\n",
    "po.animate(fps = 30, movie_name='4_bar_mechanism.mp4',lw=2,marker='o')"
   ]
  },
  {
   "cell_type": "markdown",
   "id": "710d1009",
   "metadata": {},
   "source": [
    "4. So this way, we have been able to converge towards the optimal link length using scipy minimize function."
   ]
  },
  {
   "cell_type": "code",
   "execution_count": null,
   "id": "64f77811",
   "metadata": {},
   "outputs": [],
   "source": []
  }
 ],
 "metadata": {
  "kernelspec": {
   "display_name": "Python 3 (ipykernel)",
   "language": "python",
   "name": "python3"
  },
  "language_info": {
   "codemirror_mode": {
    "name": "ipython",
    "version": 3
   },
   "file_extension": ".py",
   "mimetype": "text/x-python",
   "name": "python",
   "nbconvert_exporter": "python",
   "pygments_lexer": "ipython3",
   "version": "3.9.7"
  }
 },
 "nbformat": 4,
 "nbformat_minor": 5
}
